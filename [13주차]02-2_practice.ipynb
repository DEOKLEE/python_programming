{
 "cells": [
  {
   "cell_type": "markdown",
   "id": "bc641b44",
   "metadata": {
    "id": "bc641b44"
   },
   "source": [
    "# 02-2 스크래핑 사용하기"
   ]
  },
  {
   "cell_type": "markdown",
   "id": "5ea268e1",
   "metadata": {
    "id": "5ea268e1"
   },
   "source": [
    "<table class=\"tfo-notebook-buttons\" align=\"left\">\n",
    "  <td>\n",
    "    <a target=\"_blank\" href=\"https://nbviewer.jupyter.org/github/rickiepark/hg-da/blob/main/02-2.ipynb\"><img src=\"https://jupyter.org/assets/share.png\" width=\"61\" />주피터 노트북 뷰어로 보기</a>\n",
    "  </td>\n",
    "  <td>\n",
    "    <a target=\"_blank\" href=\"https://colab.research.google.com/github/rickiepark/hg-da/blob/main/02-2.ipynb\"><img src=\"https://www.tensorflow.org/images/colab_logo_32px.png\" />구글 코랩(Colab)에서 실행하기</a>\n",
    "  </td>\n",
    "</table>"
   ]
  },
  {
   "cell_type": "markdown",
   "id": "880d52a6",
   "metadata": {
    "id": "880d52a6"
   },
   "source": [
    "## 전체 도서의 크기구하기"
   ]
  },
  {
   "cell_type": "code",
   "execution_count": 26,
   "id": "8a75b7b6-458e-488e-9a3c-05cff0d94768",
   "metadata": {},
   "outputs": [],
   "source": [
    "from bs4 import BeautifulSoup"
   ]
  },
  {
   "cell_type": "code",
   "execution_count": 33,
   "id": "d267046f",
   "metadata": {
    "id": "d267046f"
   },
   "outputs": [],
   "source": [
    "def get_size_cnt(isbn):\n",
    "    # Yes24 도서 검색 페이지 URL\n",
    "    url = 'http://www.yes24.com/Product/Search?domain=BOOK&query={}'\n",
    "    # URL에 ISBN을 넣어 HTML 가져옵니다.\n",
    "    r = requests.get(url.format(isbn))\n",
    "    soup = BeautifulSoup(r.text, 'html.parser')   # HTML 파싱\n",
    "    # 검색 결과에서 해당 도서를 선택합니다.\n",
    "    prd_info = soup.find('a', attrs={'class':'gd_name'})\n",
    "    if prd_info == None:\n",
    "        return ''\n",
    "    # 도서 상세 페이지를 가져옵니다.\n",
    "    url = 'http://www.yes24.com'+prd_info['href']\n",
    "    r = requests.get(url)\n",
    "    soup = BeautifulSoup(r.text, 'html.parser')\n",
    "    # 상품 상세정보 div를 선택합니다.\n",
    "    prd_detail = soup.find('div', attrs={'id':'infoset_specific'})\n",
    "    # 테이블에 있는 tr 태그를 가져옵니다.\n",
    "    prd_tr_list = prd_detail.find_all('tr')\n",
    "    # 쪽수가 들어 있는 th를 찾아 td에 담긴 값을 반환합니다.\n",
    "    for tr in prd_tr_list:\n",
    "        if tr.find('th').get_text() == '쪽수, 무게, 크기':\n",
    "            return tr.find('td').get_text().split()[4]\n",
    "    return ''"
   ]
  },
  {
   "cell_type": "code",
   "execution_count": 34,
   "id": "cd7c9941",
   "metadata": {
    "colab": {
     "base_uri": "https://localhost:8080/",
     "height": 36
    },
    "id": "cd7c9941",
    "outputId": "a9d7fb91-1d91-49bb-85ac-7aa766cfe210"
   },
   "outputs": [
    {
     "data": {
      "text/plain": [
       "'130*198*30mm'"
      ]
     },
     "execution_count": 34,
     "metadata": {},
     "output_type": "execute_result"
    }
   ],
   "source": [
    "get_size_cnt(9791190090018)"
   ]
  },
  {
   "cell_type": "code",
   "execution_count": 35,
   "id": "da739a0a",
   "metadata": {
    "id": "da739a0a"
   },
   "outputs": [],
   "source": [
    "top10_books = books.head(10)"
   ]
  },
  {
   "cell_type": "code",
   "execution_count": 38,
   "id": "0bff8104",
   "metadata": {
    "id": "0bff8104"
   },
   "outputs": [],
   "source": [
    "def get_size_cnt2(row):\n",
    "    isbn = row['isbn13']\n",
    "    return get_size_cnt(isbn)"
   ]
  },
  {
   "cell_type": "code",
   "execution_count": 39,
   "id": "fb638a9b",
   "metadata": {
    "colab": {
     "base_uri": "https://localhost:8080/"
    },
    "id": "fb638a9b",
    "outputId": "08d69c61-4760-4bb2-a337-f3c8db64c9b3"
   },
   "outputs": [
    {
     "name": "stdout",
     "output_type": "stream",
     "text": [
      "0    130*198*30mm\n",
      "1    134*200*20mm\n",
      "2    130*195*15mm\n",
      "3    133*200*23mm\n",
      "4    134*195*20mm\n",
      "5    145*210*30mm\n",
      "6    137*197*18mm\n",
      "7                \n",
      "8    140*210*16mm\n",
      "9    145*210*20mm\n",
      "dtype: object\n"
     ]
    }
   ],
   "source": [
    "size_count = top10_books.apply(get_size_cnt2, axis=1)\n",
    "print(size_count)"
   ]
  },
  {
   "cell_type": "code",
   "execution_count": 40,
   "id": "941aa1d3",
   "metadata": {
    "id": "941aa1d3"
   },
   "outputs": [],
   "source": [
    "size_count = top10_books.apply(lambda row: get_size_cnt(row['isbn13']), axis=1)"
   ]
  },
  {
   "cell_type": "code",
   "execution_count": 42,
   "id": "85375062",
   "metadata": {
    "colab": {
     "base_uri": "https://localhost:8080/"
    },
    "id": "85375062",
    "outputId": "3de08f1c-241c-4c17-8735-1c682544a01a"
   },
   "outputs": [
    {
     "name": "stdout",
     "output_type": "stream",
     "text": [
      "0    130*198*30mm\n",
      "1    134*200*20mm\n",
      "2    130*195*15mm\n",
      "3    133*200*23mm\n",
      "4    134*195*20mm\n",
      "5    145*210*30mm\n",
      "6    137*197*18mm\n",
      "7                \n",
      "8    140*210*16mm\n",
      "9    145*210*20mm\n",
      "Name: size_count, dtype: object\n"
     ]
    }
   ],
   "source": [
    "size_count.name = 'size_count'\n",
    "print(size_count)"
   ]
  },
  {
   "cell_type": "code",
   "execution_count": 43,
   "id": "7ac45b9f",
   "metadata": {
    "colab": {
     "base_uri": "https://localhost:8080/",
     "height": 363
    },
    "id": "7ac45b9f",
    "outputId": "1fd709eb-9179-4077-b9ac-83016325af89"
   },
   "outputs": [
    {
     "data": {
      "text/html": [
       "<div>\n",
       "<style scoped>\n",
       "    .dataframe tbody tr th:only-of-type {\n",
       "        vertical-align: middle;\n",
       "    }\n",
       "\n",
       "    .dataframe tbody tr th {\n",
       "        vertical-align: top;\n",
       "    }\n",
       "\n",
       "    .dataframe thead th {\n",
       "        text-align: right;\n",
       "    }\n",
       "</style>\n",
       "<table border=\"1\" class=\"dataframe\">\n",
       "  <thead>\n",
       "    <tr style=\"text-align: right;\">\n",
       "      <th></th>\n",
       "      <th>no</th>\n",
       "      <th>ranking</th>\n",
       "      <th>bookname</th>\n",
       "      <th>authors</th>\n",
       "      <th>publisher</th>\n",
       "      <th>publication_year</th>\n",
       "      <th>isbn13</th>\n",
       "      <th>size_count</th>\n",
       "    </tr>\n",
       "  </thead>\n",
       "  <tbody>\n",
       "    <tr>\n",
       "      <th>0</th>\n",
       "      <td>1</td>\n",
       "      <td>1</td>\n",
       "      <td>우리가 빛의 속도로 갈 수 없다면 :김초엽 소설</td>\n",
       "      <td>지은이: 김초엽</td>\n",
       "      <td>허블</td>\n",
       "      <td>2019</td>\n",
       "      <td>9791190090018</td>\n",
       "      <td>130*198*30mm</td>\n",
       "    </tr>\n",
       "    <tr>\n",
       "      <th>1</th>\n",
       "      <td>2</td>\n",
       "      <td>2</td>\n",
       "      <td>달러구트 꿈 백화점.이미예 장편소설</td>\n",
       "      <td>지은이: 이미예</td>\n",
       "      <td>팩토리나인</td>\n",
       "      <td>2020</td>\n",
       "      <td>9791165341909</td>\n",
       "      <td>134*200*20mm</td>\n",
       "    </tr>\n",
       "    <tr>\n",
       "      <th>2</th>\n",
       "      <td>3</td>\n",
       "      <td>3</td>\n",
       "      <td>지구에서 한아뿐 :정세랑 장편소설</td>\n",
       "      <td>지은이: 정세랑</td>\n",
       "      <td>난다</td>\n",
       "      <td>2019</td>\n",
       "      <td>9791188862290</td>\n",
       "      <td>130*195*15mm</td>\n",
       "    </tr>\n",
       "    <tr>\n",
       "      <th>3</th>\n",
       "      <td>4</td>\n",
       "      <td>4</td>\n",
       "      <td>시선으로부터, :정세랑 장편소설</td>\n",
       "      <td>지은이: 정세랑</td>\n",
       "      <td>문학동네</td>\n",
       "      <td>2020</td>\n",
       "      <td>9788954672214</td>\n",
       "      <td>133*200*23mm</td>\n",
       "    </tr>\n",
       "    <tr>\n",
       "      <th>4</th>\n",
       "      <td>5</td>\n",
       "      <td>5</td>\n",
       "      <td>아몬드 :손원평 장편소설</td>\n",
       "      <td>지은이: 손원평</td>\n",
       "      <td>창비</td>\n",
       "      <td>2017</td>\n",
       "      <td>9788936434267</td>\n",
       "      <td>134*195*20mm</td>\n",
       "    </tr>\n",
       "    <tr>\n",
       "      <th>5</th>\n",
       "      <td>6</td>\n",
       "      <td>6</td>\n",
       "      <td>피프티 피플 :정세랑 장편소설</td>\n",
       "      <td>지은이: 정세랑</td>\n",
       "      <td>창비</td>\n",
       "      <td>2016</td>\n",
       "      <td>9788936434243</td>\n",
       "      <td>145*210*30mm</td>\n",
       "    </tr>\n",
       "    <tr>\n",
       "      <th>6</th>\n",
       "      <td>7</td>\n",
       "      <td>7</td>\n",
       "      <td>목소리를 드릴게요 :정세랑 소설집</td>\n",
       "      <td>지은이: 정세랑</td>\n",
       "      <td>아작</td>\n",
       "      <td>2020</td>\n",
       "      <td>9791165300005</td>\n",
       "      <td>137*197*18mm</td>\n",
       "    </tr>\n",
       "    <tr>\n",
       "      <th>7</th>\n",
       "      <td>8</td>\n",
       "      <td>8</td>\n",
       "      <td>나미야 잡화점의 기적 :히가시노 게이고 장편소설</td>\n",
       "      <td>지은이: 히가시노 게이고 ;옮긴이: 양윤옥</td>\n",
       "      <td>현대문학</td>\n",
       "      <td>2012</td>\n",
       "      <td>9788972756194</td>\n",
       "      <td></td>\n",
       "    </tr>\n",
       "    <tr>\n",
       "      <th>8</th>\n",
       "      <td>9</td>\n",
       "      <td>9</td>\n",
       "      <td>선량한 차별주의자</td>\n",
       "      <td>김지혜 지음</td>\n",
       "      <td>창비</td>\n",
       "      <td>2019</td>\n",
       "      <td>9788936477196</td>\n",
       "      <td>140*210*16mm</td>\n",
       "    </tr>\n",
       "    <tr>\n",
       "      <th>9</th>\n",
       "      <td>10</td>\n",
       "      <td>9</td>\n",
       "      <td>쇼코의 미소 :최은영 소설</td>\n",
       "      <td>지은이: 최은영</td>\n",
       "      <td>문학동네</td>\n",
       "      <td>2016</td>\n",
       "      <td>9788954641630</td>\n",
       "      <td>145*210*20mm</td>\n",
       "    </tr>\n",
       "  </tbody>\n",
       "</table>\n",
       "</div>"
      ],
      "text/plain": [
       "   no  ranking                     bookname                  authors  \\\n",
       "0   1        1  우리가 빛의 속도로 갈 수 없다면 :김초엽 소설                  지은이: 김초엽   \n",
       "1   2        2         달러구트 꿈 백화점.이미예 장편소설                  지은이: 이미예   \n",
       "2   3        3          지구에서 한아뿐 :정세랑 장편소설                  지은이: 정세랑   \n",
       "3   4        4           시선으로부터, :정세랑 장편소설                  지은이: 정세랑   \n",
       "4   5        5               아몬드 :손원평 장편소설                  지은이: 손원평   \n",
       "5   6        6            피프티 피플 :정세랑 장편소설                  지은이: 정세랑   \n",
       "6   7        7          목소리를 드릴게요 :정세랑 소설집                  지은이: 정세랑   \n",
       "7   8        8  나미야 잡화점의 기적 :히가시노 게이고 장편소설   지은이: 히가시노 게이고 ;옮긴이: 양윤옥   \n",
       "8   9        9                   선량한 차별주의자                    김지혜 지음   \n",
       "9  10        9              쇼코의 미소 :최은영 소설                  지은이: 최은영   \n",
       "\n",
       "  publisher publication_year         isbn13    size_count  \n",
       "0        허블             2019  9791190090018  130*198*30mm  \n",
       "1     팩토리나인             2020  9791165341909  134*200*20mm  \n",
       "2        난다             2019  9791188862290  130*195*15mm  \n",
       "3      문학동네             2020  9788954672214  133*200*23mm  \n",
       "4        창비             2017  9788936434267  134*195*20mm  \n",
       "5        창비             2016  9788936434243  145*210*30mm  \n",
       "6        아작             2020  9791165300005  137*197*18mm  \n",
       "7      현대문학             2012  9788972756194                \n",
       "8        창비             2019  9788936477196  140*210*16mm  \n",
       "9      문학동네             2016  9788954641630  145*210*20mm  "
      ]
     },
     "execution_count": 43,
     "metadata": {},
     "output_type": "execute_result"
    }
   ],
   "source": [
    "top10_with_size_count = pd.merge(top10_books, size_count,\n",
    "                                 left_index=True, right_index=True)\n",
    "top10_with_size_count"
   ]
  }
 ],
 "metadata": {
  "colab": {
   "provenance": []
  },
  "kernelspec": {
   "display_name": "Python 3 (ipykernel)",
   "language": "python",
   "name": "python3"
  },
  "language_info": {
   "codemirror_mode": {
    "name": "ipython",
    "version": 3
   },
   "file_extension": ".py",
   "mimetype": "text/x-python",
   "name": "python",
   "nbconvert_exporter": "python",
   "pygments_lexer": "ipython3",
   "version": "3.11.5"
  }
 },
 "nbformat": 4,
 "nbformat_minor": 5
}
