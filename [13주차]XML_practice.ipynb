{
 "cells": [
  {
   "cell_type": "code",
   "execution_count": 6,
   "id": "88a3e415-12ef-4bdb-92be-2c964b875947",
   "metadata": {},
   "outputs": [
    {
     "name": "stdout",
     "output_type": "stream",
     "text": [
      "menu\n"
     ]
    }
   ],
   "source": [
    "import xml.etree.ElementTree as et\n",
    "tree = et.ElementTree(file='menu.xml')\n",
    "root = tree.getroot()\n",
    "\n",
    "print(root.tag)"
   ]
  },
  {
   "cell_type": "code",
   "execution_count": 7,
   "id": "ce6a27b4-5d52-44df-8d4f-e591d6f43d5a",
   "metadata": {},
   "outputs": [
    {
     "data": {
      "text/plain": [
       "xml.etree.ElementTree.Element"
      ]
     },
     "execution_count": 7,
     "metadata": {},
     "output_type": "execute_result"
    }
   ],
   "source": [
    "type(root)"
   ]
  },
  {
   "cell_type": "code",
   "execution_count": 8,
   "id": "ddfb0156-8dd8-4e95-9534-84ed388c21af",
   "metadata": {},
   "outputs": [
    {
     "name": "stdout",
     "output_type": "stream",
     "text": [
      "tag: breakfast attributes: {'hours': '7-11'}\n",
      "\ttag: item attributes: {'price': '$6.00'}\n",
      "\ttag: item attributes: {'price': '$4.00'}\n",
      "tag: lunch attributes: {'hours': '11-3'}\n",
      "\ttag: item attributes: {'price': '$5.00'}\n",
      "tag: dinner attributes: {'hours': '3-10'}\n",
      "\ttag: item attributes: {'price': '8.00'}\n"
     ]
    }
   ],
   "source": [
    "for child in root:\n",
    "    print('tag:', child.tag, 'attributes:', child.attrib)\n",
    "    for grandchild in child:\n",
    "        print('\\ttag:', grandchild.tag, 'attributes:', grandchild.attrib)"
   ]
  },
  {
   "cell_type": "code",
   "execution_count": 9,
   "id": "24e29f58-25c3-44a7-a557-8917ddf4b723",
   "metadata": {},
   "outputs": [
    {
     "data": {
      "text/plain": [
       "3"
      ]
     },
     "execution_count": 9,
     "metadata": {},
     "output_type": "execute_result"
    }
   ],
   "source": [
    "len(root)"
   ]
  },
  {
   "cell_type": "code",
   "execution_count": 10,
   "id": "a13c9a9f-e4cd-4052-a269-a652dd6be505",
   "metadata": {},
   "outputs": [
    {
     "data": {
      "text/plain": [
       "2"
      ]
     },
     "execution_count": 10,
     "metadata": {},
     "output_type": "execute_result"
    }
   ],
   "source": [
    "len(root[0])"
   ]
  },
  {
   "cell_type": "code",
   "execution_count": 11,
   "id": "c10ce3d7-074f-455a-b1b2-3d0dbbabf6de",
   "metadata": {},
   "outputs": [
    {
     "data": {
      "text/plain": [
       "xml.etree.ElementTree.Element"
      ]
     },
     "execution_count": 11,
     "metadata": {},
     "output_type": "execute_result"
    }
   ],
   "source": [
    "type(root[0])"
   ]
  },
  {
   "cell_type": "code",
   "execution_count": 13,
   "id": "75929cac-8ad2-4cfc-aa66-845e5b1dd57c",
   "metadata": {},
   "outputs": [
    {
     "name": "stdout",
     "output_type": "stream",
     "text": [
      "<Element 'breakfast' at 0x00000290807B2B10>\n",
      "7-11\n",
      "['hours']\n",
      "[('hours', '7-11')]\n"
     ]
    }
   ],
   "source": [
    "print(root[0])\n",
    "print(root[0].get(\"hours\"))\n",
    "print(root[0].keys())\n",
    "print(root[0].items())"
   ]
  },
  {
   "cell_type": "code",
   "execution_count": 15,
   "id": "d9f31575-7177-4839-8b5d-1d7203f70aae",
   "metadata": {},
   "outputs": [
    {
     "name": "stdout",
     "output_type": "stream",
     "text": [
      "<Element 'lunch' at 0x00000290807B2C00>\n",
      "11-3\n",
      "['hours']\n",
      "[('hours', '11-3')]\n"
     ]
    }
   ],
   "source": [
    "lunch = root.find(\"lunch\")\n",
    "print(lunch)\n",
    "print(lunch.get(\"hours\"))\n",
    "print(lunch.keys())\n",
    "print(lunch.items())"
   ]
  },
  {
   "cell_type": "code",
   "execution_count": 16,
   "id": "4b0b38be-74a7-47cd-a31a-cf6422a5cee9",
   "metadata": {},
   "outputs": [
    {
     "data": {
      "text/plain": [
       "xml.etree.ElementTree.Element"
      ]
     },
     "execution_count": 16,
     "metadata": {},
     "output_type": "execute_result"
    }
   ],
   "source": [
    "type(lunch)"
   ]
  },
  {
   "cell_type": "code",
   "execution_count": 17,
   "id": "d06e9570-3026-4982-acc9-51884bb77515",
   "metadata": {},
   "outputs": [
    {
     "name": "stdout",
     "output_type": "stream",
     "text": [
      "[<Element 'item' at 0x00000290807B2B60>, <Element 'item' at 0x00000290807B2A70>]\n"
     ]
    }
   ],
   "source": [
    "print(root[0].findall('item'))"
   ]
  },
  {
   "cell_type": "code",
   "execution_count": 19,
   "id": "ef98332c-9adf-449a-b7ff-774d8f668f42",
   "metadata": {},
   "outputs": [
    {
     "name": "stdout",
     "output_type": "stream",
     "text": [
      "$6.00\n",
      "breakfast burritos\n",
      "$4.00\n",
      "pancakes\n"
     ]
    }
   ],
   "source": [
    "for item in root[0].findall('item'):\n",
    "    print(item.get('price'))\n",
    "    print(item.text)"
   ]
  },
  {
   "cell_type": "code",
   "execution_count": null,
   "id": "dffea0ef-6f7c-4d44-8c17-dbbcd345755e",
   "metadata": {},
   "outputs": [],
   "source": []
  },
  {
   "cell_type": "code",
   "execution_count": null,
   "id": "1d00dc87-1035-472c-8aa0-a82144aa8fec",
   "metadata": {},
   "outputs": [],
   "source": []
  },
  {
   "cell_type": "code",
   "execution_count": 20,
   "id": "60fc4a05-13bf-42ae-905f-ac328b565878",
   "metadata": {},
   "outputs": [],
   "source": [
    "#JSON"
   ]
  },
  {
   "cell_type": "code",
   "execution_count": 21,
   "id": "de3945ce-b978-4e2c-b097-0e2747054932",
   "metadata": {},
   "outputs": [
    {
     "data": {
      "text/plain": [
       "{'이름': '홍길동',\n",
       " '나이': 55,\n",
       " '성별': '남',\n",
       " '주소': '서울특별시 양천구 목동',\n",
       " '특기': ['검술', '코딩'],\n",
       " '가족관계': {'#': 2, '아버지': '홍판서', '어머니': '춘섬'},\n",
       " '회사': '경기 수원시 팔달구 우만동'}"
      ]
     },
     "execution_count": 21,
     "metadata": {},
     "output_type": "execute_result"
    }
   ],
   "source": [
    " {\n",
    "    \"이름\": \"홍길동\",\n",
    "    \"나이\": 55,\n",
    "    \"성별\": \"남\",\n",
    "    \"주소\": \"서울특별시 양천구 목동\",\n",
    "    \"특기\": [\"검술\", \"코딩\"],\n",
    "    \"가족관계\": {\"#\": 2, \"아버지\": \"홍판서\", \"어머니\": \"춘섬\"},\n",
    "    \"회사\": \"경기 수원시 팔달구 우만동\"\n",
    " }"
   ]
  },
  {
   "cell_type": "code",
   "execution_count": 27,
   "id": "d04ed2c6-b866-4f54-b1c3-3f68ec1648b4",
   "metadata": {},
   "outputs": [
    {
     "data": {
      "text/plain": [
       "dict"
      ]
     },
     "execution_count": 27,
     "metadata": {},
     "output_type": "execute_result"
    }
   ],
   "source": [
    "import json\n",
    "j1 = {\"name\":\"홍길동\", \"birth\":\"0525\", \"age\": 30}\n",
    "type(j1)\n"
   ]
  },
  {
   "cell_type": "code",
   "execution_count": 29,
   "id": "a370f016-903c-415c-87ce-7aa93ae116c6",
   "metadata": {},
   "outputs": [
    {
     "data": {
      "text/plain": [
       "{'name': '홍길동', 'birth': '0525', 'age': 30}"
      ]
     },
     "execution_count": 29,
     "metadata": {},
     "output_type": "execute_result"
    }
   ],
   "source": [
    "j1"
   ]
  },
  {
   "cell_type": "code",
   "execution_count": 30,
   "id": "c37c097b-ec8d-41cd-a69b-3b0ec3d9fb44",
   "metadata": {},
   "outputs": [
    {
     "data": {
      "text/plain": [
       "'{\"name\": \"\\\\ud64d\\\\uae38\\\\ub3d9\", \"birth\": \"0525\", \"age\": 30}'"
      ]
     },
     "execution_count": 30,
     "metadata": {},
     "output_type": "execute_result"
    }
   ],
   "source": [
    "json.dumps(j1)"
   ]
  },
  {
   "cell_type": "code",
   "execution_count": 31,
   "id": "5707cd9e-7700-45b4-91de-21cdd3b415dd",
   "metadata": {},
   "outputs": [
    {
     "name": "stdout",
     "output_type": "stream",
     "text": [
      "{\n",
      "  \"name\": \"\\ud64d\\uae38\\ub3d9\",\n",
      "  \"birth\": \"0525\",\n",
      "  \"age\": 30\n",
      "}\n"
     ]
    }
   ],
   "source": [
    "print(json.dumps(j1, indent=2))"
   ]
  },
  {
   "cell_type": "code",
   "execution_count": 32,
   "id": "43a0b203-7f34-44dc-a61d-385cf90b2343",
   "metadata": {},
   "outputs": [
    {
     "data": {
      "text/plain": [
       "'[1, 2, 3]'"
      ]
     },
     "execution_count": 32,
     "metadata": {},
     "output_type": "execute_result"
    }
   ],
   "source": [
    "json.dumps([1,2,3])"
   ]
  },
  {
   "cell_type": "code",
   "execution_count": 33,
   "id": "97f1ba16-00e9-41e8-b2ac-883b0201283a",
   "metadata": {},
   "outputs": [
    {
     "data": {
      "text/plain": [
       "'[4, 5, 6]'"
      ]
     },
     "execution_count": 33,
     "metadata": {},
     "output_type": "execute_result"
    }
   ],
   "source": [
    "json.dumps((4,5,6))"
   ]
  },
  {
   "cell_type": "code",
   "execution_count": 34,
   "id": "607a4ff4-4dcb-41dc-aeb1-07bbe38e71c9",
   "metadata": {},
   "outputs": [
    {
     "data": {
      "text/plain": [
       "{'name': '홍길동', 'birth': '0525', 'age': 30}"
      ]
     },
     "execution_count": 34,
     "metadata": {},
     "output_type": "execute_result"
    }
   ],
   "source": [
    "j1 = {\"name\":\"홍길동\", \"birth\":\"0525\", \"age\": 30}\n",
    "d1 = json.dumps(j1)\n",
    "json.loads(d1)"
   ]
  },
  {
   "cell_type": "code",
   "execution_count": null,
   "id": "719e06e5-83ab-4648-932f-836ebe7c1763",
   "metadata": {},
   "outputs": [],
   "source": []
  }
 ],
 "metadata": {
  "kernelspec": {
   "display_name": "Python 3 (ipykernel)",
   "language": "python",
   "name": "python3"
  },
  "language_info": {
   "codemirror_mode": {
    "name": "ipython",
    "version": 3
   },
   "file_extension": ".py",
   "mimetype": "text/x-python",
   "name": "python",
   "nbconvert_exporter": "python",
   "pygments_lexer": "ipython3",
   "version": "3.11.5"
  }
 },
 "nbformat": 4,
 "nbformat_minor": 5
}
