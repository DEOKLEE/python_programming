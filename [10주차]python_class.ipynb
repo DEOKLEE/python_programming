{
 "cells": [
  {
   "cell_type": "code",
   "execution_count": 1,
   "id": "a03541a9-0411-4a97-8e98-7571a0c18529",
   "metadata": {},
   "outputs": [],
   "source": [
    "#class\n",
    "#계산기"
   ]
  },
  {
   "cell_type": "code",
   "execution_count": 11,
   "id": "cefe096b-b8ed-450d-84d6-695d46fcd028",
   "metadata": {},
   "outputs": [],
   "source": [
    "result = 0"
   ]
  },
  {
   "cell_type": "code",
   "execution_count": 12,
   "id": "d3b626e2-56a9-4500-9d73-1d66b8ee968e",
   "metadata": {},
   "outputs": [],
   "source": [
    "def add(num):\n",
    "    global result\n",
    "    result += num\n",
    "    return result"
   ]
  },
  {
   "cell_type": "code",
   "execution_count": 13,
   "id": "388cacff-79bb-4d8b-b08e-715faa1c45f4",
   "metadata": {},
   "outputs": [
    {
     "data": {
      "text/plain": [
       "3"
      ]
     },
     "execution_count": 13,
     "metadata": {},
     "output_type": "execute_result"
    }
   ],
   "source": [
    "add(3)"
   ]
  },
  {
   "cell_type": "code",
   "execution_count": 14,
   "id": "c87cc1e0-e3e4-412e-aee1-4be0c6b16aee",
   "metadata": {},
   "outputs": [
    {
     "data": {
      "text/plain": [
       "7"
      ]
     },
     "execution_count": 14,
     "metadata": {},
     "output_type": "execute_result"
    }
   ],
   "source": [
    "add(4)"
   ]
  },
  {
   "cell_type": "code",
   "execution_count": 15,
   "id": "e56f6832-138d-4d3e-bbfb-79ada68e4892",
   "metadata": {},
   "outputs": [
    {
     "data": {
      "text/plain": [
       "12"
      ]
     },
     "execution_count": 15,
     "metadata": {},
     "output_type": "execute_result"
    }
   ],
   "source": [
    "add(5)"
   ]
  },
  {
   "cell_type": "code",
   "execution_count": null,
   "id": "0b0375a9-fde2-4ffb-b4e7-830b9fdfb829",
   "metadata": {},
   "outputs": [],
   "source": []
  },
  {
   "cell_type": "code",
   "execution_count": 16,
   "id": "67d2eda8-7adc-41c8-91a9-e27d9d36bd38",
   "metadata": {},
   "outputs": [],
   "source": [
    "result1 = 0\n",
    "result2 = 0"
   ]
  },
  {
   "cell_type": "code",
   "execution_count": 17,
   "id": "60acac93-beed-44eb-8423-be81e4f50002",
   "metadata": {},
   "outputs": [],
   "source": [
    "def add1(num):\n",
    "    global result1\n",
    "    result1 += num\n",
    "    return result1"
   ]
  },
  {
   "cell_type": "code",
   "execution_count": 18,
   "id": "b8c39c73-ec69-4e1e-a705-82f105b9ddf7",
   "metadata": {},
   "outputs": [],
   "source": [
    "def add2(num):\n",
    "    global result2\n",
    "    result2 += num\n",
    "    return result2"
   ]
  },
  {
   "cell_type": "code",
   "execution_count": 19,
   "id": "825aded8-e74a-4b08-974d-853219ecd019",
   "metadata": {},
   "outputs": [
    {
     "data": {
      "text/plain": [
       "3"
      ]
     },
     "execution_count": 19,
     "metadata": {},
     "output_type": "execute_result"
    }
   ],
   "source": [
    "add1(3)"
   ]
  },
  {
   "cell_type": "code",
   "execution_count": 20,
   "id": "f7bccd64-8f6a-4b36-9d24-2de0326f38c2",
   "metadata": {},
   "outputs": [
    {
     "data": {
      "text/plain": [
       "7"
      ]
     },
     "execution_count": 20,
     "metadata": {},
     "output_type": "execute_result"
    }
   ],
   "source": [
    "add1(4)"
   ]
  },
  {
   "cell_type": "code",
   "execution_count": 21,
   "id": "8c5ec5b2-cb19-470a-91c4-15eaa4ce74df",
   "metadata": {},
   "outputs": [
    {
     "data": {
      "text/plain": [
       "6"
      ]
     },
     "execution_count": 21,
     "metadata": {},
     "output_type": "execute_result"
    }
   ],
   "source": [
    "add2(6)"
   ]
  },
  {
   "cell_type": "code",
   "execution_count": 22,
   "id": "35b88701-975b-4556-ba4c-75b454b5e4a3",
   "metadata": {},
   "outputs": [
    {
     "data": {
      "text/plain": [
       "13"
      ]
     },
     "execution_count": 22,
     "metadata": {},
     "output_type": "execute_result"
    }
   ],
   "source": [
    "add2(7)"
   ]
  },
  {
   "cell_type": "code",
   "execution_count": 44,
   "id": "8c7c10a6-aa36-4c38-b257-9591b4acbe85",
   "metadata": {},
   "outputs": [],
   "source": [
    "class Calculater:\n",
    "    def __init__(self):\n",
    "        self.result = 0\n",
    "        \n",
    "    def add(self, num):\n",
    "        self.result += num\n",
    "        return self.result"
   ]
  },
  {
   "cell_type": "code",
   "execution_count": 45,
   "id": "0aa0811d-30e4-42f3-b419-1789275ed4dc",
   "metadata": {},
   "outputs": [],
   "source": [
    "cal1 = Calculater()"
   ]
  },
  {
   "cell_type": "code",
   "execution_count": 47,
   "id": "33a1a5b0-0a50-4b7b-8b84-7e9f22cc4cf0",
   "metadata": {},
   "outputs": [
    {
     "data": {
      "text/plain": [
       "3"
      ]
     },
     "execution_count": 47,
     "metadata": {},
     "output_type": "execute_result"
    }
   ],
   "source": [
    "cal1.add(3)"
   ]
  },
  {
   "cell_type": "code",
   "execution_count": 49,
   "id": "f3eae81a-89d3-4086-ba64-b398b6302dab",
   "metadata": {},
   "outputs": [
    {
     "data": {
      "text/plain": [
       "7"
      ]
     },
     "execution_count": 49,
     "metadata": {},
     "output_type": "execute_result"
    }
   ],
   "source": [
    "cal1.add(4)"
   ]
  },
  {
   "cell_type": "code",
   "execution_count": 61,
   "id": "cae1ebf0-a8f2-45fb-b0b0-bb5ca25930ff",
   "metadata": {},
   "outputs": [
    {
     "data": {
      "text/plain": [
       "7"
      ]
     },
     "execution_count": 61,
     "metadata": {},
     "output_type": "execute_result"
    }
   ],
   "source": [
    "cal1.result"
   ]
  },
  {
   "cell_type": "code",
   "execution_count": 53,
   "id": "1fcf150f-bb16-409c-a3e9-72390e909926",
   "metadata": {},
   "outputs": [],
   "source": [
    "cal2 = Calculater()"
   ]
  },
  {
   "cell_type": "code",
   "execution_count": 55,
   "id": "ada32508-9060-4582-b49f-5d27d798fe26",
   "metadata": {},
   "outputs": [
    {
     "data": {
      "text/plain": [
       "10"
      ]
     },
     "execution_count": 55,
     "metadata": {},
     "output_type": "execute_result"
    }
   ],
   "source": [
    "cal2.add(10)"
   ]
  },
  {
   "cell_type": "code",
   "execution_count": 56,
   "id": "0a73fd14-f189-44d1-9794-c838be973ad9",
   "metadata": {},
   "outputs": [
    {
     "data": {
      "text/plain": [
       "120"
      ]
     },
     "execution_count": 56,
     "metadata": {},
     "output_type": "execute_result"
    }
   ],
   "source": [
    "cal2.add(110)"
   ]
  },
  {
   "cell_type": "code",
   "execution_count": null,
   "id": "3ef45c34-8e34-4188-8ed7-956b6005ca6f",
   "metadata": {},
   "outputs": [],
   "source": []
  },
  {
   "cell_type": "code",
   "execution_count": 60,
   "id": "ce44a043-34ec-4f8a-aa65-dee23c3542a5",
   "metadata": {},
   "outputs": [],
   "source": [
    "#클래스 변수 공유"
   ]
  },
  {
   "cell_type": "code",
   "execution_count": 57,
   "id": "08d79994-a4f9-438e-9b73-ca50c7d38593",
   "metadata": {},
   "outputs": [],
   "source": [
    "class Service:\n",
    "    secret = \"지구는 4006년에 멸망한다.\""
   ]
  },
  {
   "cell_type": "code",
   "execution_count": 58,
   "id": "1d178746-7d7c-4062-b0ee-7b0434674aa0",
   "metadata": {},
   "outputs": [],
   "source": [
    "s = Service()"
   ]
  },
  {
   "cell_type": "code",
   "execution_count": 59,
   "id": "f2cc9c5d-1a8e-49da-9e36-2609e441476a",
   "metadata": {},
   "outputs": [
    {
     "data": {
      "text/plain": [
       "'지구는 4006년에 멸망한다.'"
      ]
     },
     "execution_count": 59,
     "metadata": {},
     "output_type": "execute_result"
    }
   ],
   "source": [
    "s.secret"
   ]
  },
  {
   "cell_type": "code",
   "execution_count": 62,
   "id": "1952713e-6c5d-4286-bdb3-bcd39c779526",
   "metadata": {},
   "outputs": [],
   "source": [
    "s2 = Service()"
   ]
  },
  {
   "cell_type": "code",
   "execution_count": 63,
   "id": "e9bd9b2f-74fc-4624-b1cc-174bd182e8cc",
   "metadata": {},
   "outputs": [
    {
     "data": {
      "text/plain": [
       "'지구는 4006년에 멸망한다.'"
      ]
     },
     "execution_count": 63,
     "metadata": {},
     "output_type": "execute_result"
    }
   ],
   "source": [
    "s2.secret"
   ]
  },
  {
   "cell_type": "code",
   "execution_count": 64,
   "id": "5f17b17c-e1ae-4f86-ad76-31e31098b389",
   "metadata": {},
   "outputs": [
    {
     "data": {
      "text/plain": [
       "'지구는 4006년에 멸망한다.'"
      ]
     },
     "execution_count": 64,
     "metadata": {},
     "output_type": "execute_result"
    }
   ],
   "source": [
    "Service.secret"
   ]
  },
  {
   "cell_type": "code",
   "execution_count": null,
   "id": "6d45569c-d0e0-4c5f-9845-15344fecb019",
   "metadata": {},
   "outputs": [],
   "source": []
  },
  {
   "cell_type": "code",
   "execution_count": null,
   "id": "b8a5a4d7-e1c7-4f18-8dcd-dbb34d29752d",
   "metadata": {},
   "outputs": [],
   "source": []
  },
  {
   "cell_type": "code",
   "execution_count": 65,
   "id": "13ac82a2-773a-4c3f-a5b1-8a8e0b371633",
   "metadata": {},
   "outputs": [],
   "source": [
    "#클래스 내부의 함수 method"
   ]
  },
  {
   "cell_type": "code",
   "execution_count": 66,
   "id": "f929a335-a282-466e-97e0-f8a34d759019",
   "metadata": {},
   "outputs": [],
   "source": [
    "class Service:\n",
    "    secret = \"지구는 4006년에 멸망한다.\"\n",
    "    def sum(self, a, b):\n",
    "        result = a+b\n",
    "        print(\"%s + %s = %s이다.\" % (a, b, result))"
   ]
  },
  {
   "cell_type": "code",
   "execution_count": 67,
   "id": "72cc3af2-80d7-49f2-8ff7-604623075668",
   "metadata": {},
   "outputs": [],
   "source": [
    "an = Service()"
   ]
  },
  {
   "cell_type": "code",
   "execution_count": 70,
   "id": "07550ed3-4ca2-4900-a372-fd347d141fc5",
   "metadata": {},
   "outputs": [
    {
     "name": "stdout",
     "output_type": "stream",
     "text": [
      "1 + 1 = 2이다.\n"
     ]
    }
   ],
   "source": [
    "an.sum(1, 1)"
   ]
  },
  {
   "cell_type": "code",
   "execution_count": null,
   "id": "54e4310e-e69d-4dea-85df-dcf7b2008060",
   "metadata": {},
   "outputs": [],
   "source": []
  },
  {
   "cell_type": "code",
   "execution_count": null,
   "id": "5be3e106-d6bb-4eef-862c-99d243b356f0",
   "metadata": {},
   "outputs": [],
   "source": []
  },
  {
   "cell_type": "code",
   "execution_count": 71,
   "id": "90838d04-06c7-402e-afff-ed613a762a63",
   "metadata": {},
   "outputs": [],
   "source": [
    "class Service:\n",
    "    secret = \"지구는 4006년에 멸망한다.\"\n",
    "    \n",
    "    def setname(self, name):\n",
    "        self.name = name\n",
    "        def sum(self, a, b):\n",
    "        result = a+b\n",
    "        print(\"%s + %s = %s이다.\" % (a, b, result))\n",
    "        "
   ]
  },
  {
   "cell_type": "code",
   "execution_count": 86,
   "id": "0e196292-a195-4351-85f8-0d61302025d3",
   "metadata": {},
   "outputs": [],
   "source": [
    "class Service:\n",
    "    secret = \"지구는 4006년에 멸망한다.\"\n",
    "    \n",
    "    def setname(self, name):\n",
    "        self.name = name\n",
    "    \n",
    "    def sum(self, a, b):\n",
    "        result = a+b\n",
    "        print(\"%s님, %s + %s = %s입니다.\" % (self.name, a, b, result))"
   ]
  },
  {
   "cell_type": "code",
   "execution_count": 95,
   "id": "bcdeafa9-a496-4c51-95f8-c0990ce4580a",
   "metadata": {},
   "outputs": [],
   "source": [
    "an = Service()"
   ]
  },
  {
   "cell_type": "code",
   "execution_count": 88,
   "id": "d394b83d-bf52-43b4-9030-7984076f1fd9",
   "metadata": {},
   "outputs": [],
   "source": [
    "an.setname(\"박달도사\")"
   ]
  },
  {
   "cell_type": "code",
   "execution_count": 89,
   "id": "57fb2a31-9fbb-440a-9907-ab5c5becef3e",
   "metadata": {},
   "outputs": [
    {
     "name": "stdout",
     "output_type": "stream",
     "text": [
      "박달도사님, 1 + 1 = 2입니다.\n"
     ]
    }
   ],
   "source": [
    "an.sum(1, 1)"
   ]
  },
  {
   "cell_type": "code",
   "execution_count": null,
   "id": "c1cb09b3-a187-47d4-9d06-81536bc952e0",
   "metadata": {},
   "outputs": [],
   "source": []
  },
  {
   "cell_type": "code",
   "execution_count": null,
   "id": "b1fe74df-f601-46fc-84f8-5b3c00e79591",
   "metadata": {},
   "outputs": [],
   "source": []
  },
  {
   "cell_type": "code",
   "execution_count": 90,
   "id": "a6fa3c9f-040d-4bc5-bd07-08269b418720",
   "metadata": {},
   "outputs": [],
   "source": [
    "#__init__"
   ]
  },
  {
   "cell_type": "code",
   "execution_count": 91,
   "id": "05059db8-7689-48c6-be5c-f1b87d5102c5",
   "metadata": {},
   "outputs": [],
   "source": [
    "lee = Service()"
   ]
  },
  {
   "cell_type": "code",
   "execution_count": 92,
   "id": "ed4bde0b-559b-4d13-a1e1-7f995cbe6189",
   "metadata": {},
   "outputs": [
    {
     "ename": "AttributeError",
     "evalue": "'Service' object has no attribute 'name'",
     "output_type": "error",
     "traceback": [
      "\u001b[1;31m---------------------------------------------------------------------------\u001b[0m",
      "\u001b[1;31mAttributeError\u001b[0m                            Traceback (most recent call last)",
      "Cell \u001b[1;32mIn[92], line 1\u001b[0m\n\u001b[1;32m----> 1\u001b[0m \u001b[43mlee\u001b[49m\u001b[38;5;241;43m.\u001b[39;49m\u001b[43msum\u001b[49m\u001b[43m(\u001b[49m\u001b[38;5;241;43m1\u001b[39;49m\u001b[43m,\u001b[49m\u001b[38;5;241;43m1\u001b[39;49m\u001b[43m)\u001b[49m\n",
      "Cell \u001b[1;32mIn[86], line 9\u001b[0m, in \u001b[0;36mService.sum\u001b[1;34m(self, a, b)\u001b[0m\n\u001b[0;32m      7\u001b[0m \u001b[38;5;28;01mdef\u001b[39;00m \u001b[38;5;21msum\u001b[39m(\u001b[38;5;28mself\u001b[39m, a, b):\n\u001b[0;32m      8\u001b[0m     result \u001b[38;5;241m=\u001b[39m a\u001b[38;5;241m+\u001b[39mb\n\u001b[1;32m----> 9\u001b[0m     \u001b[38;5;28mprint\u001b[39m(\u001b[38;5;124m\"\u001b[39m\u001b[38;5;132;01m%s\u001b[39;00m\u001b[38;5;124m님, \u001b[39m\u001b[38;5;132;01m%s\u001b[39;00m\u001b[38;5;124m + \u001b[39m\u001b[38;5;132;01m%s\u001b[39;00m\u001b[38;5;124m = \u001b[39m\u001b[38;5;132;01m%s\u001b[39;00m\u001b[38;5;124m입니다.\u001b[39m\u001b[38;5;124m\"\u001b[39m \u001b[38;5;241m%\u001b[39m (\u001b[38;5;28;43mself\u001b[39;49m\u001b[38;5;241;43m.\u001b[39;49m\u001b[43mname\u001b[49m, a, b, result))\n",
      "\u001b[1;31mAttributeError\u001b[0m: 'Service' object has no attribute 'name'"
     ]
    }
   ],
   "source": [
    "lee.sum(1,1)"
   ]
  },
  {
   "cell_type": "code",
   "execution_count": 97,
   "id": "3ad63183-a879-48e5-94c9-b2cfa0714252",
   "metadata": {},
   "outputs": [],
   "source": [
    "class Service:\n",
    "    secret = \"지구는 4006년에 멸망한다.\"\n",
    "    \n",
    "    def __init__(self, name):\n",
    "        self.name = name\n",
    "    \n",
    "    def sum(self, a, b):\n",
    "        result = a+b\n",
    "        print(\"%s님, %s + %s = %s입니다.\" % (self.name, a, b, result))"
   ]
  },
  {
   "cell_type": "code",
   "execution_count": 98,
   "id": "89ea9362-ddc9-4a55-bcb2-6514b4bab53f",
   "metadata": {},
   "outputs": [],
   "source": [
    "an = Service(\"샐리\")"
   ]
  },
  {
   "cell_type": "code",
   "execution_count": 99,
   "id": "9707e281-6d80-4115-97e6-3e3f450ddee0",
   "metadata": {},
   "outputs": [
    {
     "name": "stdout",
     "output_type": "stream",
     "text": [
      "샐리님, 1 + 1 = 2입니다.\n"
     ]
    }
   ],
   "source": [
    "an.sum(1,1)"
   ]
  },
  {
   "cell_type": "code",
   "execution_count": null,
   "id": "6cf43577-9ba2-4b0f-9784-59290874392b",
   "metadata": {},
   "outputs": [],
   "source": []
  },
  {
   "cell_type": "code",
   "execution_count": null,
   "id": "a54bb8af-6a0d-4693-9c5c-9ffae6a5bf97",
   "metadata": {},
   "outputs": [],
   "source": []
  },
  {
   "cell_type": "code",
   "execution_count": null,
   "id": "0381a49b-cb10-4954-a637-6dd547014dad",
   "metadata": {},
   "outputs": [],
   "source": []
  },
  {
   "cell_type": "code",
   "execution_count": 96,
   "id": "2de302a9-729f-497e-ba05-7004b5c88553",
   "metadata": {},
   "outputs": [],
   "source": [
    "#사칙연산 클래스"
   ]
  },
  {
   "cell_type": "code",
   "execution_count": 100,
   "id": "65a8677d-f162-4665-9495-52990a6b4eef",
   "metadata": {},
   "outputs": [],
   "source": [
    "class FourCal:\n",
    "    pass"
   ]
  },
  {
   "cell_type": "code",
   "execution_count": 101,
   "id": "c03f2a4b-ceb0-4d1b-a6a6-75f1431f1191",
   "metadata": {},
   "outputs": [],
   "source": [
    "a = FourCal()"
   ]
  },
  {
   "cell_type": "code",
   "execution_count": 102,
   "id": "a0015ace-bd6f-46d8-9097-5d5e3a3ff301",
   "metadata": {},
   "outputs": [
    {
     "name": "stdout",
     "output_type": "stream",
     "text": [
      "<class '__main__.FourCal'>\n"
     ]
    }
   ],
   "source": [
    "print(type(a))"
   ]
  },
  {
   "cell_type": "code",
   "execution_count": null,
   "id": "00066ced-dd65-4bfe-9dc7-dc5bd4170529",
   "metadata": {},
   "outputs": [],
   "source": []
  },
  {
   "cell_type": "code",
   "execution_count": 34,
   "id": "d39de463-3b6b-4fc6-bae2-88aac2c04ae0",
   "metadata": {},
   "outputs": [],
   "source": [
    "class FourCal:\n",
    "    def setdata(self, first, second):\n",
    "        self.first = first\n",
    "        self.second = second\n",
    "    def sum(self):\n",
    "        result = self.first + self.second\n",
    "        return result\n",
    "    def mul(self):\n",
    "        result = self.first * self.second\n",
    "        return result\n",
    "    def sub(self):\n",
    "        result = self.first - self.second\n",
    "        return result\n",
    "    def div(self):\n",
    "        result = self.first / self.second\n",
    "        return result"
   ]
  },
  {
   "cell_type": "code",
   "execution_count": 35,
   "id": "96e8f3fd-c60e-4335-9966-4707fbc495a3",
   "metadata": {},
   "outputs": [],
   "source": [
    "a = FourCal()\n"
   ]
  },
  {
   "cell_type": "code",
   "execution_count": 36,
   "id": "ca805b54-091a-4634-a1dc-3cb656e2f078",
   "metadata": {},
   "outputs": [],
   "source": [
    "a.setdata(4,2)\n"
   ]
  },
  {
   "cell_type": "code",
   "execution_count": 37,
   "id": "f62f61f6-9faa-48cc-9c41-d93798516242",
   "metadata": {},
   "outputs": [
    {
     "name": "stdout",
     "output_type": "stream",
     "text": [
      "4\n"
     ]
    }
   ],
   "source": [
    "print(a.first)"
   ]
  },
  {
   "cell_type": "code",
   "execution_count": 38,
   "id": "216cdb02-85eb-4e6d-ab5a-7957c2b02bbe",
   "metadata": {},
   "outputs": [
    {
     "name": "stdout",
     "output_type": "stream",
     "text": [
      "2\n"
     ]
    }
   ],
   "source": [
    "print(a.second)"
   ]
  },
  {
   "cell_type": "code",
   "execution_count": 39,
   "id": "5aefdb47-d166-40f5-9cd9-d13205229d24",
   "metadata": {},
   "outputs": [
    {
     "data": {
      "text/plain": [
       "6"
      ]
     },
     "execution_count": 39,
     "metadata": {},
     "output_type": "execute_result"
    }
   ],
   "source": [
    "a.sum()"
   ]
  },
  {
   "cell_type": "code",
   "execution_count": 40,
   "id": "b35bc94e-c95d-4301-9a32-596e44fa3377",
   "metadata": {},
   "outputs": [
    {
     "data": {
      "text/plain": [
       "8"
      ]
     },
     "execution_count": 40,
     "metadata": {},
     "output_type": "execute_result"
    }
   ],
   "source": [
    "a.mul()"
   ]
  },
  {
   "cell_type": "code",
   "execution_count": 41,
   "id": "dbc75500-ce9b-4a1d-8608-9a6ec74fc888",
   "metadata": {},
   "outputs": [
    {
     "data": {
      "text/plain": [
       "2"
      ]
     },
     "execution_count": 41,
     "metadata": {},
     "output_type": "execute_result"
    }
   ],
   "source": [
    "a.sub()"
   ]
  },
  {
   "cell_type": "code",
   "execution_count": 42,
   "id": "825a2927-89c4-41f0-aa8a-01e305044fbb",
   "metadata": {},
   "outputs": [
    {
     "data": {
      "text/plain": [
       "2.0"
      ]
     },
     "execution_count": 42,
     "metadata": {},
     "output_type": "execute_result"
    }
   ],
   "source": [
    "a.div()"
   ]
  },
  {
   "cell_type": "code",
   "execution_count": null,
   "id": "e5ee4f25-db42-495c-b323-e2b1426805b6",
   "metadata": {},
   "outputs": [],
   "source": []
  },
  {
   "cell_type": "code",
   "execution_count": 43,
   "id": "9fac8ebb-857c-4c85-be42-5bdfcfb95383",
   "metadata": {},
   "outputs": [],
   "source": [
    "import random"
   ]
  },
  {
   "cell_type": "code",
   "execution_count": 45,
   "id": "8624dee6-76e0-44cd-8087-2eb0d776b609",
   "metadata": {},
   "outputs": [],
   "source": [
    "player1_dice = []\n",
    "player2_dice = []"
   ]
  },
  {
   "cell_type": "code",
   "execution_count": 47,
   "id": "bd043a97-de58-4eaa-adcb-0bf5fdbef9b8",
   "metadata": {},
   "outputs": [],
   "source": [
    "for i in range(3):\n",
    "    player1_dice.append(random.randint(1, 6))\n",
    "    player2_dice.append(random.randint(1, 6))"
   ]
  },
  {
   "cell_type": "code",
   "execution_count": 49,
   "id": "b321d354-432b-407e-ab8e-eb7ce339c07f",
   "metadata": {},
   "outputs": [
    {
     "name": "stdout",
     "output_type": "stream",
     "text": [
      "Player 1 rolled[6, 1, 4]\n",
      "Player 2 rolled[3, 3, 5]\n"
     ]
    }
   ],
   "source": [
    "print(\"Player 1 rolled\" + str(player1_dice))\n",
    "print(\"Player 2 rolled\" + str(player2_dice))"
   ]
  },
  {
   "cell_type": "code",
   "execution_count": 50,
   "id": "9c9f4525-c4dd-43e0-8626-f5667c671622",
   "metadata": {},
   "outputs": [
    {
     "name": "stdout",
     "output_type": "stream",
     "text": [
      "Draw\n"
     ]
    }
   ],
   "source": [
    "if sum(player1_dice) == sum(player2_dice):\n",
    "    print(\"Draw\")\n",
    "elif sum(player1_dice) > sum(player2_dice):\n",
    "    print(\"Player 1 wins\")\n",
    "else:\n",
    "    print(\"Player 2 wins\")"
   ]
  },
  {
   "cell_type": "code",
   "execution_count": null,
   "id": "bae7bcc4-97f6-46e7-a1b7-33a5ae4db855",
   "metadata": {},
   "outputs": [],
   "source": []
  },
  {
   "cell_type": "code",
   "execution_count": null,
   "id": "855f3501-46c6-43e8-8597-1bcefd012642",
   "metadata": {},
   "outputs": [],
   "source": []
  },
  {
   "cell_type": "code",
   "execution_count": 52,
   "id": "cff95075-aa2b-451e-a744-653e2c59171c",
   "metadata": {},
   "outputs": [],
   "source": [
    "from random import randint"
   ]
  },
  {
   "cell_type": "code",
   "execution_count": 53,
   "id": "8e25f026-83bb-41df-83d3-307c06119adb",
   "metadata": {},
   "outputs": [],
   "source": [
    "class Player:\n",
    "    def __init__(self):\n",
    "        self.dice = []\n",
    "\n",
    "    def roll(self):\n",
    "        self.dice = []\n",
    "        for i in range(3):\n",
    "            self.dice.append(randint(1, 6))\n",
    "\n",
    "    def get_dice(self):\n",
    "        return self.dice"
   ]
  },
  {
   "cell_type": "code",
   "execution_count": 54,
   "id": "fabe153e-56bc-43f0-af58-86083852bc17",
   "metadata": {},
   "outputs": [],
   "source": [
    "player1 = Player()\n",
    "player2 = Player()"
   ]
  },
  {
   "cell_type": "code",
   "execution_count": 55,
   "id": "f97a1f3a-6453-4c72-a9b7-c87eeeaa39ba",
   "metadata": {},
   "outputs": [],
   "source": [
    "player1.roll()\n",
    "player2.roll()"
   ]
  },
  {
   "cell_type": "code",
   "execution_count": 57,
   "id": "ac556a95-f37a-4a66-923b-b0ff24139103",
   "metadata": {},
   "outputs": [
    {
     "name": "stdout",
     "output_type": "stream",
     "text": [
      "Player 1 rolled[2, 2, 4]\n",
      "Player 2 rolled[3, 4, 1]\n"
     ]
    }
   ],
   "source": [
    "print(\"Player 1 rolled\" + str(player1.get_dice()))\n",
    "print(\"Player 2 rolled\" + str(player2.get_dice()))"
   ]
  },
  {
   "cell_type": "code",
   "execution_count": 58,
   "id": "608a1d0f-c783-457e-bf47-6394baf75db9",
   "metadata": {},
   "outputs": [
    {
     "name": "stdout",
     "output_type": "stream",
     "text": [
      "Draw!\n"
     ]
    }
   ],
   "source": [
    "if sum(player1.get_dice()) == sum(player2.get_dice()):\n",
    "    print(\"Draw!\")\n",
    "elif sum(player1.get_dice()) > sum(player.get_dice()):\n",
    "    print(\"Player 1 wins!\")\n",
    "else:\n",
    "    print(\"Player 2 wins!\")"
   ]
  },
  {
   "cell_type": "code",
   "execution_count": null,
   "id": "a7cce9ff-21f8-4272-a080-0f2f352435b6",
   "metadata": {},
   "outputs": [],
   "source": []
  }
 ],
 "metadata": {
  "kernelspec": {
   "display_name": "Python 3 (ipykernel)",
   "language": "python",
   "name": "python3"
  },
  "language_info": {
   "codemirror_mode": {
    "name": "ipython",
    "version": 3
   },
   "file_extension": ".py",
   "mimetype": "text/x-python",
   "name": "python",
   "nbconvert_exporter": "python",
   "pygments_lexer": "ipython3",
   "version": "3.11.5"
  }
 },
 "nbformat": 4,
 "nbformat_minor": 5
}
